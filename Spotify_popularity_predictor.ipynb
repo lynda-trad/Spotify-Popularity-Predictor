{
 "cells": [
  {
   "cell_type": "markdown",
   "id": "5aa49708-8021-42a0-8938-1ac321c245a4",
   "metadata": {
    "jp-MarkdownHeadingCollapsed": true
   },
   "source": [
    "# Spotify song popularity predictor\n",
    "This is a supervised machine learning notebook, we'll have a regression and a classification model.\n",
    "\n",
    "____\n",
    "\n",
    "We have two datasets filled with informations about songs uploaded on Spotify. In each dataset, we have a column \"popularity\" which will be our machine learning models' target.\n",
    "\n",
    "Each dataset treats the popularity as a different variable, the first one treats it as a boolean, the other as a number on a scale from 0 to 100. \n",
    "\n",
    "This way we can have both a regression and a classification model to treat each dataset."
   ]
  },
  {
   "cell_type": "markdown",
   "id": "87115dbd-bc2c-41d0-8c66-df8e23e4583e",
   "metadata": {
    "jp-MarkdownHeadingCollapsed": true
   },
   "source": [
    "# Summary\n",
    "- Regression:\n",
    "    - Data analysis & cleanup\n",
    "    - Label Encoder\n",
    "    - Standard Scaler\n",
    "    - Finding the best Regressor\n",
    "    - Grid Search on Random Forest models\n",
    "\n",
    "\n",
    "- Classification:\n",
    "    - Data analysis & cleanup\n",
    "    - Label Encoder\n",
    "    - Standard Scaler\n",
    "    - Finding the best Classifier\n",
    "    - Logistic Regression model"
   ]
  },
  {
   "cell_type": "markdown",
   "id": "e3dd0948-df18-47fc-b61f-db871e934de7",
   "metadata": {
    "jp-MarkdownHeadingCollapsed": true
   },
   "source": [
    "# Library"
   ]
  },
  {
   "cell_type": "code",
   "execution_count": 1,
   "id": "af784be8-09ec-45bd-a56a-e2e66a10c71e",
   "metadata": {},
   "outputs": [],
   "source": [
    "from time import time\n",
    "import pandas as pd\n",
    "import numpy as np\n",
    "import seaborn as sns\n",
    "import matplotlib.pyplot as plt\n",
    "\n",
    "# Machine Learning Library\n",
    "from sklearn import metrics\n",
    "from sklearn.preprocessing import LabelEncoder, StandardScaler\n",
    "from sklearn.metrics import explained_variance_score, mean_squared_error, mean_absolute_error, r2_score\n",
    "from sklearn.model_selection import train_test_split, cross_val_score, StratifiedKFold, KFold, GridSearchCV\n",
    "\n",
    "# Regression\n",
    "from sklearn import tree\n",
    "import xgboost as xgb\n",
    "from xgboost import XGBRegressor\n",
    "from sklearn.tree import DecisionTreeRegressor\n",
    "from sklearn.neighbors import KNeighborsRegressor\n",
    "from sklearn.ensemble import GradientBoostingRegressor\n",
    "from sklearn.linear_model import LinearRegression, Ridge,Lasso\n",
    "from sklearn.ensemble import ExtraTreesRegressor, RandomForestRegressor\n",
    "\n",
    "# Classification\n",
    "from sklearn.metrics import classification_report\n",
    "from sklearn.linear_model import LogisticRegression\n",
    "from sklearn import tree\n",
    "from sklearn.tree import DecisionTreeClassifier\n",
    "from sklearn.ensemble import RandomForestClassifier\n",
    "\n",
    "from warnings import filterwarnings\n",
    "filterwarnings('ignore')"
   ]
  },
  {
   "cell_type": "markdown",
   "id": "8e0e290d-a966-4a3b-83e8-f470ae6e2be6",
   "metadata": {
    "jp-MarkdownHeadingCollapsed": true
   },
   "source": [
    "# Regression"
   ]
  },
  {
   "cell_type": "markdown",
   "id": "a63f13dd-3b70-4827-b77c-951c34f85185",
   "metadata": {
    "jp-MarkdownHeadingCollapsed": true
   },
   "source": [
    "## Data"
   ]
  },
  {
   "cell_type": "code",
   "execution_count": 2,
   "id": "852034e9-7394-484f-940b-0a76972c27d8",
   "metadata": {
    "scrolled": true
   },
   "outputs": [
    {
     "data": {
      "text/html": [
       "<div>\n",
       "<style scoped>\n",
       "    .dataframe tbody tr th:only-of-type {\n",
       "        vertical-align: middle;\n",
       "    }\n",
       "\n",
       "    .dataframe tbody tr th {\n",
       "        vertical-align: top;\n",
       "    }\n",
       "\n",
       "    .dataframe thead th {\n",
       "        text-align: right;\n",
       "    }\n",
       "</style>\n",
       "<table border=\"1\" class=\"dataframe\">\n",
       "  <thead>\n",
       "    <tr style=\"text-align: right;\">\n",
       "      <th></th>\n",
       "      <th>artist_name</th>\n",
       "      <th>track_name</th>\n",
       "      <th>track_id</th>\n",
       "      <th>popularity</th>\n",
       "      <th>genre</th>\n",
       "      <th>year</th>\n",
       "      <th>danceability</th>\n",
       "      <th>energy</th>\n",
       "      <th>key</th>\n",
       "      <th>loudness</th>\n",
       "      <th>...</th>\n",
       "      <th>speechiness</th>\n",
       "      <th>acousticness</th>\n",
       "      <th>instrumentalness</th>\n",
       "      <th>liveness</th>\n",
       "      <th>valence</th>\n",
       "      <th>tempo</th>\n",
       "      <th>duration_ms</th>\n",
       "      <th>time_signature</th>\n",
       "      <th>beat_duration</th>\n",
       "      <th>tatum_duration</th>\n",
       "    </tr>\n",
       "  </thead>\n",
       "  <tbody>\n",
       "    <tr>\n",
       "      <th>0</th>\n",
       "      <td>PEDRO SAMPAIO</td>\n",
       "      <td>DANÇARINA</td>\n",
       "      <td>5AT1GKRcXAzgjbF86kc4O5</td>\n",
       "      <td>1</td>\n",
       "      <td>Ostentacao</td>\n",
       "      <td>2022</td>\n",
       "      <td>0.778</td>\n",
       "      <td>0.571</td>\n",
       "      <td>9</td>\n",
       "      <td>-4.776</td>\n",
       "      <td>...</td>\n",
       "      <td>0.0788</td>\n",
       "      <td>0.0423</td>\n",
       "      <td>0.0</td>\n",
       "      <td>0.0964</td>\n",
       "      <td>0.554</td>\n",
       "      <td>134.999</td>\n",
       "      <td>110222</td>\n",
       "      <td>4</td>\n",
       "      <td>1.773955</td>\n",
       "      <td>0.221700</td>\n",
       "    </tr>\n",
       "    <tr>\n",
       "      <th>1</th>\n",
       "      <td>Mc Pedrinho</td>\n",
       "      <td>DANÇARINA</td>\n",
       "      <td>0ISAN8BdKHRdPrW2mdlKNz</td>\n",
       "      <td>0</td>\n",
       "      <td>Ostentacao</td>\n",
       "      <td>2022</td>\n",
       "      <td>0.778</td>\n",
       "      <td>0.571</td>\n",
       "      <td>9</td>\n",
       "      <td>-4.776</td>\n",
       "      <td>...</td>\n",
       "      <td>0.0788</td>\n",
       "      <td>0.0423</td>\n",
       "      <td>0.0</td>\n",
       "      <td>0.0964</td>\n",
       "      <td>0.554</td>\n",
       "      <td>134.999</td>\n",
       "      <td>110222</td>\n",
       "      <td>4</td>\n",
       "      <td>1.773955</td>\n",
       "      <td>0.221700</td>\n",
       "    </tr>\n",
       "    <tr>\n",
       "      <th>2</th>\n",
       "      <td>MC Kevinho</td>\n",
       "      <td>Olha A Explosão</td>\n",
       "      <td>6Q4foUefrAyCt8VxJFML56</td>\n",
       "      <td>67</td>\n",
       "      <td>Ostentacao</td>\n",
       "      <td>2016</td>\n",
       "      <td>0.778</td>\n",
       "      <td>0.635</td>\n",
       "      <td>6</td>\n",
       "      <td>-2.892</td>\n",
       "      <td>...</td>\n",
       "      <td>0.1120</td>\n",
       "      <td>0.1070</td>\n",
       "      <td>0.0</td>\n",
       "      <td>0.0608</td>\n",
       "      <td>0.379</td>\n",
       "      <td>90.008</td>\n",
       "      <td>162053</td>\n",
       "      <td>4</td>\n",
       "      <td>2.693884</td>\n",
       "      <td>0.335178</td>\n",
       "    </tr>\n",
       "    <tr>\n",
       "      <th>3</th>\n",
       "      <td>Mc Kadu</td>\n",
       "      <td>Vê Se Me Acha</td>\n",
       "      <td>52iyuDZKt7PoR9TdutXr7c</td>\n",
       "      <td>18</td>\n",
       "      <td>Ostentacao</td>\n",
       "      <td>2022</td>\n",
       "      <td>0.917</td>\n",
       "      <td>0.668</td>\n",
       "      <td>1</td>\n",
       "      <td>-2.889</td>\n",
       "      <td>...</td>\n",
       "      <td>0.1380</td>\n",
       "      <td>0.7100</td>\n",
       "      <td>0.0</td>\n",
       "      <td>0.0689</td>\n",
       "      <td>0.775</td>\n",
       "      <td>113.347</td>\n",
       "      <td>276706</td>\n",
       "      <td>5</td>\n",
       "      <td>2.092276</td>\n",
       "      <td>0.264835</td>\n",
       "    </tr>\n",
       "    <tr>\n",
       "      <th>4</th>\n",
       "      <td>DJ Matt D</td>\n",
       "      <td>Pandora</td>\n",
       "      <td>0yL7K9MzC20uBesZTPY81r</td>\n",
       "      <td>81</td>\n",
       "      <td>Ostentacao</td>\n",
       "      <td>2021</td>\n",
       "      <td>0.688</td>\n",
       "      <td>0.458</td>\n",
       "      <td>1</td>\n",
       "      <td>-9.138</td>\n",
       "      <td>...</td>\n",
       "      <td>0.5880</td>\n",
       "      <td>0.1400</td>\n",
       "      <td>0.0</td>\n",
       "      <td>0.4070</td>\n",
       "      <td>0.559</td>\n",
       "      <td>124.553</td>\n",
       "      <td>177000</td>\n",
       "      <td>4</td>\n",
       "      <td>1.925308</td>\n",
       "      <td>0.242900</td>\n",
       "    </tr>\n",
       "  </tbody>\n",
       "</table>\n",
       "<p>5 rows × 21 columns</p>\n",
       "</div>"
      ],
      "text/plain": [
       "     artist_name       track_name                track_id  popularity  \\\n",
       "0  PEDRO SAMPAIO        DANÇARINA  5AT1GKRcXAzgjbF86kc4O5           1   \n",
       "1    Mc Pedrinho        DANÇARINA  0ISAN8BdKHRdPrW2mdlKNz           0   \n",
       "2     MC Kevinho  Olha A Explosão  6Q4foUefrAyCt8VxJFML56          67   \n",
       "3        Mc Kadu    Vê Se Me Acha  52iyuDZKt7PoR9TdutXr7c          18   \n",
       "4      DJ Matt D          Pandora  0yL7K9MzC20uBesZTPY81r          81   \n",
       "\n",
       "        genre  year  danceability  energy  key  loudness  ...  speechiness  \\\n",
       "0  Ostentacao  2022         0.778   0.571    9    -4.776  ...       0.0788   \n",
       "1  Ostentacao  2022         0.778   0.571    9    -4.776  ...       0.0788   \n",
       "2  Ostentacao  2016         0.778   0.635    6    -2.892  ...       0.1120   \n",
       "3  Ostentacao  2022         0.917   0.668    1    -2.889  ...       0.1380   \n",
       "4  Ostentacao  2021         0.688   0.458    1    -9.138  ...       0.5880   \n",
       "\n",
       "   acousticness  instrumentalness  liveness  valence    tempo  duration_ms  \\\n",
       "0        0.0423               0.0    0.0964    0.554  134.999       110222   \n",
       "1        0.0423               0.0    0.0964    0.554  134.999       110222   \n",
       "2        0.1070               0.0    0.0608    0.379   90.008       162053   \n",
       "3        0.7100               0.0    0.0689    0.775  113.347       276706   \n",
       "4        0.1400               0.0    0.4070    0.559  124.553       177000   \n",
       "\n",
       "   time_signature  beat_duration  tatum_duration  \n",
       "0               4       1.773955        0.221700  \n",
       "1               4       1.773955        0.221700  \n",
       "2               4       2.693884        0.335178  \n",
       "3               5       2.092276        0.264835  \n",
       "4               4       1.925308        0.242900  \n",
       "\n",
       "[5 rows x 21 columns]"
      ]
     },
     "execution_count": 2,
     "metadata": {},
     "output_type": "execute_result"
    }
   ],
   "source": [
    "data_regression = pd.read_csv(\"./data/data_regression.csv\", encoding='utf-8')\n",
    "data_regression = data_regression.drop(\"Unnamed: 0\", axis=1)\n",
    "data_regression.head()"
   ]
  },
  {
   "cell_type": "markdown",
   "id": "e1d7c531-b609-4cbd-a3cf-61f33875c7f4",
   "metadata": {
    "jp-MarkdownHeadingCollapsed": true
   },
   "source": [
    "## Missing values & duplicates"
   ]
  },
  {
   "cell_type": "code",
   "execution_count": 3,
   "id": "f5caa8a2-844a-4a83-912a-2e8b97daff67",
   "metadata": {},
   "outputs": [],
   "source": [
    "data_regression.drop_duplicates()\n",
    "data_regression = data_regression.dropna()"
   ]
  },
  {
   "cell_type": "code",
   "execution_count": 4,
   "id": "b15cf34a-72a6-49fe-bc67-05f5cf064075",
   "metadata": {},
   "outputs": [
    {
     "name": "stdout",
     "output_type": "stream",
     "text": [
      "Percentage of missing values on each column :\n",
      "\n",
      "artist_name         0.0\n",
      "speechiness         0.0\n",
      "beat_duration       0.0\n",
      "time_signature      0.0\n",
      "duration_ms         0.0\n",
      "tempo               0.0\n",
      "valence             0.0\n",
      "liveness            0.0\n",
      "instrumentalness    0.0\n",
      "acousticness        0.0\n",
      "mode                0.0\n",
      "track_name          0.0\n",
      "loudness            0.0\n",
      "key                 0.0\n",
      "energy              0.0\n",
      "danceability        0.0\n",
      "year                0.0\n",
      "genre               0.0\n",
      "popularity          0.0\n",
      "track_id            0.0\n",
      "tatum_duration      0.0\n",
      "dtype: float64\n"
     ]
    }
   ],
   "source": [
    "print(\"Percentage of missing values on each column :\\n\")\n",
    "print(((data_regression.isnull().sum()/data_regression.shape[0])*100).sort_values(ascending=False))"
   ]
  },
  {
   "cell_type": "markdown",
   "id": "10d94f93-a388-415b-9271-56c08716ba71",
   "metadata": {},
   "source": [
    "We are not missing any values from the database."
   ]
  },
  {
   "cell_type": "markdown",
   "id": "8c69d686-7054-45af-a6c5-91e15089b27d",
   "metadata": {
    "jp-MarkdownHeadingCollapsed": true
   },
   "source": [
    "## Features\n",
    "- Description\n",
    "- Correlations"
   ]
  },
  {
   "cell_type": "code",
   "execution_count": 5,
   "id": "03b13ed9-774b-49e8-b372-81fe1120a8a4",
   "metadata": {},
   "outputs": [
    {
     "data": {
      "text/plain": [
       "['artist_name',\n",
       " 'track_name',\n",
       " 'track_id',\n",
       " 'popularity',\n",
       " 'genre',\n",
       " 'year',\n",
       " 'danceability',\n",
       " 'energy',\n",
       " 'key',\n",
       " 'loudness',\n",
       " 'mode',\n",
       " 'speechiness',\n",
       " 'acousticness',\n",
       " 'instrumentalness',\n",
       " 'liveness',\n",
       " 'valence',\n",
       " 'tempo',\n",
       " 'duration_ms',\n",
       " 'time_signature',\n",
       " 'beat_duration',\n",
       " 'tatum_duration']"
      ]
     },
     "execution_count": 5,
     "metadata": {},
     "output_type": "execute_result"
    }
   ],
   "source": [
    "data_regression.columns.to_list()"
   ]
  },
  {
   "cell_type": "markdown",
   "id": "b237c683-bd1c-487d-b847-84a3d39b8024",
   "metadata": {},
   "source": [
    "Our target is the column \"popularity\". Considering we only have around 20 columns, there is no need to remove many features for our model.\n",
    "\n",
    "We'll remove the track id, the track name and the artist name."
   ]
  },
  {
   "cell_type": "code",
   "execution_count": 6,
   "id": "c23b8acc-9942-40a1-bb28-06f2b50c4716",
   "metadata": {},
   "outputs": [
    {
     "data": {
      "text/plain": [
       "['genre',\n",
       " 'year',\n",
       " 'danceability',\n",
       " 'energy',\n",
       " 'key',\n",
       " 'loudness',\n",
       " 'mode',\n",
       " 'speechiness',\n",
       " 'acousticness',\n",
       " 'instrumentalness',\n",
       " 'liveness',\n",
       " 'valence',\n",
       " 'tempo',\n",
       " 'duration_ms',\n",
       " 'time_signature',\n",
       " 'beat_duration',\n",
       " 'tatum_duration']"
      ]
     },
     "execution_count": 6,
     "metadata": {},
     "output_type": "execute_result"
    }
   ],
   "source": [
    "features = data_regression.columns.to_list()\n",
    "features.remove(\"artist_name\")\n",
    "features.remove(\"track_name\")\n",
    "features.remove(\"track_id\")\n",
    "features.remove(\"popularity\")\n",
    "features"
   ]
  },
  {
   "cell_type": "markdown",
   "id": "08a6b0a5-5020-4455-bf7e-bb7ecd9fe361",
   "metadata": {
    "jp-MarkdownHeadingCollapsed": true
   },
   "source": [
    "### Correlations"
   ]
  },
  {
   "cell_type": "markdown",
   "id": "cd36cdac-d070-4a19-a416-6b833e37b084",
   "metadata": {},
   "source": [
    "The genre of a song seems to somewhat be correlated to its popularity. \n",
    "\n",
    "We can also see two things on the correlation box :\n",
    "- the energy is correlated to the loudness,\n",
    "- the valence is correlated to the energy, the danceability and the loudness."
   ]
  },
  {
   "cell_type": "markdown",
   "id": "bd2f1862-8c66-4c90-9b63-346ff01f2268",
   "metadata": {
    "jp-MarkdownHeadingCollapsed": true
   },
   "source": [
    "#### Correlations between features"
   ]
  },
  {
   "cell_type": "code",
   "execution_count": 7,
   "id": "154cbb51-2a5a-4d20-90e7-4942e9484afb",
   "metadata": {},
   "outputs": [
    {
     "data": {
      "image/png": "[encoded data removed]",
      "text/plain": [
       "<Figure size 640x480 with 2 Axes>"
      ]
     },
     "metadata": {},
     "output_type": "display_data"
    }
   ],
   "source": [
    "cor_heatmap = sns.heatmap(data_regression[['year',\n",
    " 'danceability',\n",
    " 'energy',\n",
    " 'key',\n",
    " 'loudness',\n",
    " 'mode',\n",
    " 'speechiness',\n",
    " 'acousticness',\n",
    " 'instrumentalness',\n",
    " 'liveness',\n",
    " 'valence',\n",
    " 'tempo',\n",
    " 'duration_ms',\n",
    " 'time_signature',\n",
    " 'beat_duration',\n",
    " 'tatum_duration']].corr(), cmap=\"coolwarm\")"
   ]
  },
  {
   "cell_type": "markdown",
   "id": "659ac47c-58e9-49ae-ae0b-50c8ade945c8",
   "metadata": {
    "jp-MarkdownHeadingCollapsed": true
   },
   "source": [
    "#### Correlations between features and target"
   ]
  },
  {
   "cell_type": "code",
   "execution_count": 8,
   "id": "2109586a-a82e-40b3-a90b-531d3d615d25",
   "metadata": {},
   "outputs": [
    {
     "data": {
      "text/plain": [
       "speechiness        -0.206677\n",
       "valence            -0.156984\n",
       "danceability       -0.150215\n",
       "year               -0.100702\n",
       "time_signature     -0.091591\n",
       "acousticness       -0.064028\n",
       "artist_name        -0.046046\n",
       "tatum_duration     -0.031316\n",
       "beat_duration      -0.030570\n",
       "key                -0.022171\n",
       "track_id           -0.021034\n",
       "instrumentalness   -0.012308\n",
       "track_name          0.015286\n",
       "loudness            0.015702\n",
       "energy              0.019256\n",
       "tempo               0.031893\n",
       "mode                0.039320\n",
       "liveness            0.056751\n",
       "duration_ms         0.077118\n",
       "genre               0.272047\n",
       "popularity          1.000000\n",
       "Name: popularity, dtype: float64"
      ]
     },
     "execution_count": 8,
     "metadata": {},
     "output_type": "execute_result"
    }
   ],
   "source": [
    "data_encoded = data_regression.copy()\n",
    "le = LabelEncoder()\n",
    "for col in data_encoded:\n",
    "    le.fit(data_encoded[col])\n",
    "    data_encoded[col] = le.transform(data_encoded[col])\n",
    "data_encoded.corr()['popularity'].sort_values()"
   ]
  },
  {
   "cell_type": "markdown",
   "id": "52e0d0d9-aeb7-480f-a4f1-48e50ecdfd14",
   "metadata": {
    "jp-MarkdownHeadingCollapsed": true
   },
   "source": [
    "## Generating X and y for our models"
   ]
  },
  {
   "cell_type": "code",
   "execution_count": 9,
   "id": "26b9c17b-b004-480c-a179-fcf64ae523b2",
   "metadata": {},
   "outputs": [],
   "source": [
    "X = data_regression[['genre',\n",
    " 'year',\n",
    " 'danceability',\n",
    " 'energy',\n",
    " 'key',\n",
    " 'loudness',\n",
    " 'mode',\n",
    " 'speechiness',\n",
    " 'acousticness',\n",
    " 'instrumentalness',\n",
    " 'liveness',\n",
    " 'valence',\n",
    " 'tempo',\n",
    " 'duration_ms',\n",
    " 'time_signature',\n",
    " 'beat_duration',\n",
    " 'tatum_duration']].copy()\n",
    "\n",
    "y = data_regression[[\"popularity\"]]"
   ]
  },
  {
   "cell_type": "markdown",
   "id": "72186505-f44a-41fb-92dc-0a23317f3cba",
   "metadata": {
    "jp-MarkdownHeadingCollapsed": true
   },
   "source": [
    "### Label Encoding some of our features"
   ]
  },
  {
   "cell_type": "code",
   "execution_count": 10,
   "id": "8fd5b8ae-d73a-49be-99a8-7ea6ae85507e",
   "metadata": {
    "scrolled": true
   },
   "outputs": [
    {
     "name": "stdout",
     "output_type": "stream",
     "text": [
      "genre\n",
      "time_signature\n",
      "key\n",
      "mode\n",
      "4 columns were label encoded.\n"
     ]
    }
   ],
   "source": [
    "data_to_label= X[[\"genre\", \"time_signature\", \"key\", \"mode\"]].copy()\n",
    "\n",
    "le = LabelEncoder()\n",
    "le_count = 0\n",
    "\n",
    "for col in data_to_label:\n",
    "    le.fit(X[col])\n",
    "    X[col] = le.transform(X[col])\n",
    "    le_count += 1\n",
    "    print(col)\n",
    "X.reset_index()\n",
    "print('%d columns were label encoded.' % le_count)"
   ]
  },
  {
   "cell_type": "markdown",
   "id": "725960db-e3fc-4212-afba-f78f6264f21b",
   "metadata": {
    "jp-MarkdownHeadingCollapsed": true
   },
   "source": [
    "### Standard Scaler on features that could badly influence the model otherwise.\n",
    "Because a value A is bigger than a value B, the model could think A is more important than B. This is why we'll use standard scaler on columns such as :\n",
    "\n",
    "```year```, ```tempo```, ```beat_duration```, and ```duration_ms```. \n",
    "\n",
    "Just to be safe, we'll use the standard scaler on all of the remaining features as well."
   ]
  },
  {
   "cell_type": "code",
   "execution_count": 11,
   "id": "ea598a29-66aa-4996-8f3c-e6e019e06bf3",
   "metadata": {},
   "outputs": [
    {
     "name": "stdout",
     "output_type": "stream",
     "text": [
      "year\n",
      "danceability\n",
      "energy\n",
      "loudness\n",
      "speechiness\n",
      "acousticness\n",
      "instrumentalness\n",
      "liveness\n",
      "valence\n",
      "tempo\n",
      "duration_ms\n",
      "beat_duration\n",
      "tatum_duration\n",
      "13 columns were scaled.\n"
     ]
    }
   ],
   "source": [
    "sc = StandardScaler()\n",
    "scale_count = 0\n",
    "\n",
    "data_to_scale = X[['year',\n",
    " 'danceability',\n",
    " 'energy',\n",
    " 'loudness',\n",
    " 'speechiness',\n",
    " 'acousticness',\n",
    " 'instrumentalness',\n",
    " 'liveness',\n",
    " 'valence',\n",
    " 'tempo',\n",
    " 'duration_ms',\n",
    " 'beat_duration',\n",
    " 'tatum_duration']].copy()\n",
    "\n",
    "for col in data_to_scale:\n",
    "    X[col] = sc.fit_transform(X[[col]])\n",
    "    scale_count += 1\n",
    "    print(col)\n",
    "X.reset_index()\n",
    "print('%d columns were scaled.' % scale_count)"
   ]
  },
  {
   "cell_type": "code",
   "execution_count": 12,
   "id": "14265663-fb4f-4830-a89e-e1ff6305c544",
   "metadata": {},
   "outputs": [
    {
     "data": {
      "text/html": [
       "<div>\n",
       "<style scoped>\n",
       "    .dataframe tbody tr th:only-of-type {\n",
       "        vertical-align: middle;\n",
       "    }\n",
       "\n",
       "    .dataframe tbody tr th {\n",
       "        vertical-align: top;\n",
       "    }\n",
       "\n",
       "    .dataframe thead th {\n",
       "        text-align: right;\n",
       "    }\n",
       "</style>\n",
       "<table border=\"1\" class=\"dataframe\">\n",
       "  <thead>\n",
       "    <tr style=\"text-align: right;\">\n",
       "      <th></th>\n",
       "      <th>genre</th>\n",
       "      <th>year</th>\n",
       "      <th>danceability</th>\n",
       "      <th>energy</th>\n",
       "      <th>key</th>\n",
       "      <th>loudness</th>\n",
       "      <th>mode</th>\n",
       "      <th>speechiness</th>\n",
       "      <th>acousticness</th>\n",
       "      <th>instrumentalness</th>\n",
       "      <th>liveness</th>\n",
       "      <th>valence</th>\n",
       "      <th>tempo</th>\n",
       "      <th>duration_ms</th>\n",
       "      <th>time_signature</th>\n",
       "      <th>beat_duration</th>\n",
       "      <th>tatum_duration</th>\n",
       "    </tr>\n",
       "  </thead>\n",
       "  <tbody>\n",
       "    <tr>\n",
       "      <th>0</th>\n",
       "      <td>2</td>\n",
       "      <td>0.744634</td>\n",
       "      <td>0.530758</td>\n",
       "      <td>-0.688414</td>\n",
       "      <td>9</td>\n",
       "      <td>0.313461</td>\n",
       "      <td>0</td>\n",
       "      <td>-0.526701</td>\n",
       "      <td>-0.845430</td>\n",
       "      <td>-0.136708</td>\n",
       "      <td>-0.539864</td>\n",
       "      <td>-0.165297</td>\n",
       "      <td>0.493421</td>\n",
       "      <td>-1.730384</td>\n",
       "      <td>2</td>\n",
       "      <td>-0.638272</td>\n",
       "      <td>-0.686412</td>\n",
       "    </tr>\n",
       "    <tr>\n",
       "      <th>1</th>\n",
       "      <td>2</td>\n",
       "      <td>0.744634</td>\n",
       "      <td>0.530758</td>\n",
       "      <td>-0.688414</td>\n",
       "      <td>9</td>\n",
       "      <td>0.313461</td>\n",
       "      <td>0</td>\n",
       "      <td>-0.526701</td>\n",
       "      <td>-0.845430</td>\n",
       "      <td>-0.136708</td>\n",
       "      <td>-0.539864</td>\n",
       "      <td>-0.165297</td>\n",
       "      <td>0.493421</td>\n",
       "      <td>-1.730384</td>\n",
       "      <td>2</td>\n",
       "      <td>-0.638272</td>\n",
       "      <td>-0.686412</td>\n",
       "    </tr>\n",
       "    <tr>\n",
       "      <th>2</th>\n",
       "      <td>2</td>\n",
       "      <td>-0.326879</td>\n",
       "      <td>0.530758</td>\n",
       "      <td>-0.277391</td>\n",
       "      <td>6</td>\n",
       "      <td>1.065810</td>\n",
       "      <td>1</td>\n",
       "      <td>-0.253534</td>\n",
       "      <td>-0.539803</td>\n",
       "      <td>-0.136708</td>\n",
       "      <td>-0.805711</td>\n",
       "      <td>-1.000534</td>\n",
       "      <td>-1.025512</td>\n",
       "      <td>-0.862325</td>\n",
       "      <td>2</td>\n",
       "      <td>1.254001</td>\n",
       "      <td>1.157822</td>\n",
       "    </tr>\n",
       "    <tr>\n",
       "      <th>3</th>\n",
       "      <td>2</td>\n",
       "      <td>0.744634</td>\n",
       "      <td>1.624571</td>\n",
       "      <td>-0.065458</td>\n",
       "      <td>1</td>\n",
       "      <td>1.067008</td>\n",
       "      <td>0</td>\n",
       "      <td>-0.039608</td>\n",
       "      <td>2.308628</td>\n",
       "      <td>-0.136708</td>\n",
       "      <td>-0.745223</td>\n",
       "      <td>0.889488</td>\n",
       "      <td>-0.237568</td>\n",
       "      <td>1.057869</td>\n",
       "      <td>3</td>\n",
       "      <td>0.016507</td>\n",
       "      <td>0.014616</td>\n",
       "    </tr>\n",
       "    <tr>\n",
       "      <th>4</th>\n",
       "      <td>2</td>\n",
       "      <td>0.566049</td>\n",
       "      <td>-0.177466</td>\n",
       "      <td>-1.414125</td>\n",
       "      <td>1</td>\n",
       "      <td>-1.428441</td>\n",
       "      <td>0</td>\n",
       "      <td>3.662958</td>\n",
       "      <td>-0.383918</td>\n",
       "      <td>-0.136708</td>\n",
       "      <td>1.779581</td>\n",
       "      <td>-0.141433</td>\n",
       "      <td>0.140755</td>\n",
       "      <td>-0.611995</td>\n",
       "      <td>2</td>\n",
       "      <td>-0.326942</td>\n",
       "      <td>-0.341864</td>\n",
       "    </tr>\n",
       "    <tr>\n",
       "      <th>...</th>\n",
       "      <td>...</td>\n",
       "      <td>...</td>\n",
       "      <td>...</td>\n",
       "      <td>...</td>\n",
       "      <td>...</td>\n",
       "      <td>...</td>\n",
       "      <td>...</td>\n",
       "      <td>...</td>\n",
       "      <td>...</td>\n",
       "      <td>...</td>\n",
       "      <td>...</td>\n",
       "      <td>...</td>\n",
       "      <td>...</td>\n",
       "      <td>...</td>\n",
       "      <td>...</td>\n",
       "      <td>...</td>\n",
       "      <td>...</td>\n",
       "    </tr>\n",
       "    <tr>\n",
       "      <th>2306</th>\n",
       "      <td>0</td>\n",
       "      <td>0.387463</td>\n",
       "      <td>0.790440</td>\n",
       "      <td>-0.470058</td>\n",
       "      <td>2</td>\n",
       "      <td>-0.239219</td>\n",
       "      <td>0</td>\n",
       "      <td>-0.655879</td>\n",
       "      <td>0.523044</td>\n",
       "      <td>0.744930</td>\n",
       "      <td>-0.903537</td>\n",
       "      <td>0.865624</td>\n",
       "      <td>-0.585913</td>\n",
       "      <td>0.241661</td>\n",
       "      <td>2</td>\n",
       "      <td>0.468237</td>\n",
       "      <td>0.444175</td>\n",
       "    </tr>\n",
       "    <tr>\n",
       "      <th>2307</th>\n",
       "      <td>0</td>\n",
       "      <td>-1.041221</td>\n",
       "      <td>-0.161728</td>\n",
       "      <td>1.283209</td>\n",
       "      <td>1</td>\n",
       "      <td>0.124975</td>\n",
       "      <td>1</td>\n",
       "      <td>-0.603220</td>\n",
       "      <td>-0.393366</td>\n",
       "      <td>-0.136708</td>\n",
       "      <td>-0.430836</td>\n",
       "      <td>1.027898</td>\n",
       "      <td>0.155137</td>\n",
       "      <td>-0.167841</td>\n",
       "      <td>2</td>\n",
       "      <td>-0.363998</td>\n",
       "      <td>-0.387487</td>\n",
       "    </tr>\n",
       "    <tr>\n",
       "      <th>2308</th>\n",
       "      <td>0</td>\n",
       "      <td>-0.326879</td>\n",
       "      <td>-1.349971</td>\n",
       "      <td>-0.797591</td>\n",
       "      <td>10</td>\n",
       "      <td>-0.256790</td>\n",
       "      <td>0</td>\n",
       "      <td>1.573066</td>\n",
       "      <td>1.850422</td>\n",
       "      <td>-0.136670</td>\n",
       "      <td>-0.371095</td>\n",
       "      <td>0.760623</td>\n",
       "      <td>2.636490</td>\n",
       "      <td>0.029365</td>\n",
       "      <td>2</td>\n",
       "      <td>-1.520265</td>\n",
       "      <td>-1.528195</td>\n",
       "    </tr>\n",
       "    <tr>\n",
       "      <th>2309</th>\n",
       "      <td>0</td>\n",
       "      <td>0.387463</td>\n",
       "      <td>-1.129635</td>\n",
       "      <td>0.557498</td>\n",
       "      <td>5</td>\n",
       "      <td>0.953996</td>\n",
       "      <td>0</td>\n",
       "      <td>0.980655</td>\n",
       "      <td>-0.213863</td>\n",
       "      <td>-0.136708</td>\n",
       "      <td>-0.762399</td>\n",
       "      <td>-0.112797</td>\n",
       "      <td>-1.510047</td>\n",
       "      <td>0.419273</td>\n",
       "      <td>2</td>\n",
       "      <td>2.183104</td>\n",
       "      <td>2.168185</td>\n",
       "    </tr>\n",
       "    <tr>\n",
       "      <th>2310</th>\n",
       "      <td>0</td>\n",
       "      <td>0.744634</td>\n",
       "      <td>0.546496</td>\n",
       "      <td>-2.223325</td>\n",
       "      <td>2</td>\n",
       "      <td>-2.887214</td>\n",
       "      <td>1</td>\n",
       "      <td>-0.669044</td>\n",
       "      <td>-0.924317</td>\n",
       "      <td>-0.136672</td>\n",
       "      <td>-0.896816</td>\n",
       "      <td>0.235616</td>\n",
       "      <td>-1.210454</td>\n",
       "      <td>0.034473</td>\n",
       "      <td>2</td>\n",
       "      <td>1.557338</td>\n",
       "      <td>1.483209</td>\n",
       "    </tr>\n",
       "  </tbody>\n",
       "</table>\n",
       "<p>2311 rows × 17 columns</p>\n",
       "</div>"
      ],
      "text/plain": [
       "      genre      year  danceability    energy  key  loudness  mode  \\\n",
       "0         2  0.744634      0.530758 -0.688414    9  0.313461     0   \n",
       "1         2  0.744634      0.530758 -0.688414    9  0.313461     0   \n",
       "2         2 -0.326879      0.530758 -0.277391    6  1.065810     1   \n",
       "3         2  0.744634      1.624571 -0.065458    1  1.067008     0   \n",
       "4         2  0.566049     -0.177466 -1.414125    1 -1.428441     0   \n",
       "...     ...       ...           ...       ...  ...       ...   ...   \n",
       "2306      0  0.387463      0.790440 -0.470058    2 -0.239219     0   \n",
       "2307      0 -1.041221     -0.161728  1.283209    1  0.124975     1   \n",
       "2308      0 -0.326879     -1.349971 -0.797591   10 -0.256790     0   \n",
       "2309      0  0.387463     -1.129635  0.557498    5  0.953996     0   \n",
       "2310      0  0.744634      0.546496 -2.223325    2 -2.887214     1   \n",
       "\n",
       "      speechiness  acousticness  instrumentalness  liveness   valence  \\\n",
       "0       -0.526701     -0.845430         -0.136708 -0.539864 -0.165297   \n",
       "1       -0.526701     -0.845430         -0.136708 -0.539864 -0.165297   \n",
       "2       -0.253534     -0.539803         -0.136708 -0.805711 -1.000534   \n",
       "3       -0.039608      2.308628         -0.136708 -0.745223  0.889488   \n",
       "4        3.662958     -0.383918         -0.136708  1.779581 -0.141433   \n",
       "...           ...           ...               ...       ...       ...   \n",
       "2306    -0.655879      0.523044          0.744930 -0.903537  0.865624   \n",
       "2307    -0.603220     -0.393366         -0.136708 -0.430836  1.027898   \n",
       "2308     1.573066      1.850422         -0.136670 -0.371095  0.760623   \n",
       "2309     0.980655     -0.213863         -0.136708 -0.762399 -0.112797   \n",
       "2310    -0.669044     -0.924317         -0.136672 -0.896816  0.235616   \n",
       "\n",
       "         tempo  duration_ms  time_signature  beat_duration  tatum_duration  \n",
       "0     0.493421    -1.730384               2      -0.638272       -0.686412  \n",
       "1     0.493421    -1.730384               2      -0.638272       -0.686412  \n",
       "2    -1.025512    -0.862325               2       1.254001        1.157822  \n",
       "3    -0.237568     1.057869               3       0.016507        0.014616  \n",
       "4     0.140755    -0.611995               2      -0.326942       -0.341864  \n",
       "...        ...          ...             ...            ...             ...  \n",
       "2306 -0.585913     0.241661               2       0.468237        0.444175  \n",
       "2307  0.155137    -0.167841               2      -0.363998       -0.387487  \n",
       "2308  2.636490     0.029365               2      -1.520265       -1.528195  \n",
       "2309 -1.510047     0.419273               2       2.183104        2.168185  \n",
       "2310 -1.210454     0.034473               2       1.557338        1.483209  \n",
       "\n",
       "[2311 rows x 17 columns]"
      ]
     },
     "execution_count": 12,
     "metadata": {},
     "output_type": "execute_result"
    }
   ],
   "source": [
    "X"
   ]
  },
  {
   "cell_type": "markdown",
   "id": "fcc84046-844d-4ac8-93b8-2ed21747769c",
   "metadata": {
    "jp-MarkdownHeadingCollapsed": true
   },
   "source": [
    "## Train test split"
   ]
  },
  {
   "cell_type": "code",
   "execution_count": 13,
   "id": "9c845e60-fe47-40be-81af-465c1145f765",
   "metadata": {},
   "outputs": [],
   "source": [
    "X_train, X_test, y_train, y_test = train_test_split(X, y, test_size=0.3, random_state=42)"
   ]
  },
  {
   "cell_type": "markdown",
   "id": "ac718d32-04b6-4941-9463-d685b76724cf",
   "metadata": {
    "jp-MarkdownHeadingCollapsed": true
   },
   "source": [
    "## Finding the most suited model"
   ]
  },
  {
   "cell_type": "markdown",
   "id": "83ab84b6-42bf-4092-9316-7df7f584121f",
   "metadata": {},
   "source": [
    "-- How will we judge our regressors ? --\n",
    "\n",
    "- The Mean Absolute Error takes the differences in all of the predicted and actual results, adds them up and then divides them by the number of observations. It doesn’t matter if the prediction is higher or lower than the actual result, the algorithm just looks at the absolute value. A lower value indicates better accuracy\n",
    "\n",
    "- MSE and RMSE are really useful when you want to see if the outliers are messing with your predictions. \n",
    "\n",
    "- The r2 score measures the amount of variance in the predictions. Simply put, it is the difference between the samples in the dataset and the predictions made by the model. If the value of the r2 score is 1, it means that the model is perfect and if its value is 0, it means that the model will perform badly on an unseen dataset. If the r2 score drops after using cross validation, then the model suffers from overfitting."
   ]
  },
  {
   "cell_type": "code",
   "execution_count": 14,
   "id": "86b723fb-438b-4b26-8ca7-df7e991b25f7",
   "metadata": {},
   "outputs": [],
   "source": [
    "regressors = [\n",
    "    KNeighborsRegressor(),\n",
    "    GradientBoostingRegressor(),\n",
    "    ExtraTreesRegressor(),\n",
    "    RandomForestRegressor(),\n",
    "    DecisionTreeRegressor(),\n",
    "    LinearRegression(),\n",
    "    Lasso(),\n",
    "    Ridge()\n",
    "]"
   ]
  },
  {
   "cell_type": "code",
   "execution_count": 15,
   "id": "086c2eb8-abe5-448a-b955-86948701dccf",
   "metadata": {
    "scrolled": true
   },
   "outputs": [
    {
     "name": "stdout",
     "output_type": "stream",
     "text": [
      "KNeighborsRegressor()\n",
      "\tTraining time: 0.005s\n",
      "\tPrediction time: 0.236s\n",
      "\tExplained variance: -0.028750782660146523\n",
      "\tMean absolute error: 12.47550432276657\n",
      "\tRMSE: 19.745244931535797\n",
      "\tR2 score: -0.0378229939659398\n",
      "\tR2 score using cross validation: -1.8497523688327662\n",
      "\n",
      "GradientBoostingRegressor()\n",
      "\tTraining time: 1.354s\n",
      "\tPrediction time: 0.002s\n",
      "\tExplained variance: 0.5568889416434715\n",
      "\tMean absolute error: 8.115356185530725\n",
      "\tRMSE: 12.902502457163209\n",
      "\tR2 score: 0.5568547088331357\n",
      "\tR2 score using cross validation: -0.9341370678495888\n",
      "\n",
      "ExtraTreesRegressor()\n",
      "\tTraining time: 1.470s\n",
      "\tPrediction time: 0.016s\n",
      "\tExplained variance: 0.5227409413568299\n",
      "\tMean absolute error: 7.993731988472623\n",
      "\tRMSE: 13.3971797163278\n",
      "\tR2 score: 0.5222232581647243\n",
      "\tR2 score using cross validation: -0.7431967954358993\n",
      "\n",
      "RandomForestRegressor()\n",
      "\tTraining time: 4.385s\n",
      "\tPrediction time: 0.014s\n",
      "\tExplained variance: 0.5702117912116209\n",
      "\tMean absolute error: 7.719480547550432\n",
      "\tRMSE: 12.714094535213437\n",
      "\tR2 score: 0.5697022149579469\n",
      "\tR2 score using cross validation: -1.3616980452817997\n",
      "\n",
      "DecisionTreeRegressor()\n",
      "\tTraining time: 0.059s\n",
      "\tPrediction time: 0.002s\n",
      "\tExplained variance: 0.06532267506550526\n",
      "\tMean absolute error: 10.332853025936599\n",
      "\tRMSE: 18.77352510736256\n",
      "\tR2 score: 0.06181195711484433\n",
      "\tR2 score using cross validation: -4.5594641886402885\n",
      "\n",
      "LinearRegression()\n",
      "\tTraining time: 0.006s\n",
      "\tPrediction time: 0.001s\n",
      "\tExplained variance: 0.11122999317088522\n",
      "\tMean absolute error: 11.942123234930103\n",
      "\tRMSE: 18.2823994980529\n",
      "\tR2 score: 0.11025690272946909\n",
      "\tR2 score using cross validation: -1.8803120831017588\n",
      "\n",
      "Lasso()\n",
      "\tTraining time: 0.004s\n",
      "\tPrediction time: 0.002s\n",
      "\tExplained variance: 0.10128180043071\n",
      "\tMean absolute error: 12.112203162531285\n",
      "\tRMSE: 18.389552941419606\n",
      "\tR2 score: 0.09979674093033886\n",
      "\tR2 score using cross validation: -1.8109391853093555\n",
      "\n",
      "Ridge()\n",
      "\tTraining time: 0.003s\n",
      "\tPrediction time: 0.001s\n",
      "\tExplained variance: 0.1114204900384298\n",
      "\tMean absolute error: 11.937885936427154\n",
      "\tRMSE: 18.280433842815903\n",
      "\tR2 score: 0.11044821614648626\n",
      "\tR2 score using cross validation: -1.8807619690742654\n",
      "\n"
     ]
    }
   ],
   "source": [
    "# Models Performance\n",
    "head = 10\n",
    "for model in regressors[:head]:\n",
    "    start = time()\n",
    "    model.fit(X_train, y_train)\n",
    "    train_time = time() - start\n",
    "    start = time()\n",
    "    y_pred = model.predict(X_test)\n",
    "    predict_time = time()-start    \n",
    "    print(model)\n",
    "    print(\"\\tTraining time: %0.3fs\" % train_time)\n",
    "    print(\"\\tPrediction time: %0.3fs\" % predict_time)\n",
    "    print(\"\\tExplained variance:\", explained_variance_score(y_test, y_pred))\n",
    "    print(\"\\tMean absolute error:\", mean_absolute_error(y_test, y_pred))\n",
    "    print(\"\\tRMSE:\", np.sqrt(mean_squared_error(y_test, y_pred)))\n",
    "    print(\"\\tR2 score:\", r2_score(y_test, y_pred))\n",
    "    print(\"\\tR2 score using cross validation:\", cross_val_score(model, X, y, cv=10, scoring=\"r2\").mean())\n",
    "    print()"
   ]
  },
  {
   "cell_type": "markdown",
   "id": "ce7b319e-093a-49c7-86a9-568c89e764fe",
   "metadata": {
    "jp-MarkdownHeadingCollapsed": true
   },
   "source": [
    "## Random Forest Regressors"
   ]
  },
  {
   "cell_type": "markdown",
   "id": "8bdc5a8b-334c-4a01-aa33-c286131b7004",
   "metadata": {},
   "source": [
    "The best mean absolute error is 7.8, we got this result from a Random Forest Regressor. Its r2 score is one of the best scores of the list.\n",
    "\n",
    "Let's try a Random Forest Regressor with our data and some parameters."
   ]
  },
  {
   "cell_type": "code",
   "execution_count": 16,
   "id": "aa2e8bb4-9ae8-42cd-b510-bfa72b3166d9",
   "metadata": {},
   "outputs": [
    {
     "data": {
      "text/plain": [
       "0.68724606175592"
      ]
     },
     "execution_count": 16,
     "metadata": {},
     "output_type": "execute_result"
    }
   ],
   "source": [
    "grid = { \n",
    "    'n_estimators': [200,300,400,500],\n",
    "    'max_features': ['sqrt','log2'],\n",
    "    'max_depth' : [3,4,5,6,7],\n",
    "    'random_state' : [18]\n",
    "}\n",
    "best_random_forest = GridSearchCV(estimator=RandomForestRegressor(), param_grid=grid, cv= 5)\n",
    "best_random_forest.fit(X_train, y_train)\n",
    "best_random_forest.score(X_train, y_train)"
   ]
  },
  {
   "cell_type": "code",
   "execution_count": 17,
   "id": "3b0eef4e-df57-479a-9239-769f0234ca4b",
   "metadata": {},
   "outputs": [
    {
     "data": {
      "text/plain": [
       "{'max_depth': 7,\n",
       " 'max_features': 'sqrt',\n",
       " 'n_estimators': 500,\n",
       " 'random_state': 18}"
      ]
     },
     "execution_count": 17,
     "metadata": {},
     "output_type": "execute_result"
    }
   ],
   "source": [
    "best_random_forest.best_params_"
   ]
  },
  {
   "cell_type": "code",
   "execution_count": 18,
   "id": "9c62b19e-5030-4391-8bd9-442902fb692e",
   "metadata": {},
   "outputs": [
    {
     "name": "stdout",
     "output_type": "stream",
     "text": [
      "RandomForestRegressor(criterion='absolute_error', max_depth=7,\n",
      "                      max_features='sqrt', n_estimators=500, random_state=18)\n",
      "\tTraining time: 0.003s\n",
      "\tPrediction time: 0.001s\n",
      "\tExplained variance: 0.4581190070263492\n",
      "\tMean absolute error: 8.831678674351586\n",
      "\tRMSE: 14.31812920343182\n",
      "\tR2 score: 0.45427884186793055\n",
      "\tR2 score using cross validation: -0.9509635590810431\n"
     ]
    }
   ],
   "source": [
    "best_rf_model = RandomForestRegressor(n_estimators = 500, criterion=\"absolute_error\", max_depth = 7, random_state = 18, max_features= 'sqrt').fit(X_train, y_train)\n",
    "y_pred = best_rf_model.predict(X_test)\n",
    "\n",
    "print(best_rf_model)\n",
    "print(\"\\tTraining time: %0.3fs\" % train_time)\n",
    "print(\"\\tPrediction time: %0.3fs\" % predict_time)\n",
    "print(\"\\tExplained variance:\", explained_variance_score(y_test, y_pred))\n",
    "print(\"\\tMean absolute error:\", mean_absolute_error(y_test, y_pred))\n",
    "print(\"\\tRMSE:\", np.sqrt(mean_squared_error(y_test, y_pred)))\n",
    "print(\"\\tR2 score:\", r2_score(y_test, y_pred))\n",
    "print(\"\\tR2 score using cross validation:\", cross_val_score(best_rf_model, X, y, cv=10, scoring=\"r2\").mean())"
   ]
  },
  {
   "cell_type": "markdown",
   "id": "60953f29-e119-44f9-a9df-7549e8967063",
   "metadata": {},
   "source": [
    "# Conclusion of Regression"
   ]
  },
  {
   "cell_type": "markdown",
   "id": "b96e5c46-4647-4eaa-8adf-7e532e579470",
   "metadata": {},
   "source": [
    "In conclusion, our regression models did very poorly when confronted to cross validation. \n",
    "This shows our models suffered from overfitting. A way to explain this would be the size of our dataset : only 2311 rows."
   ]
  },
  {
   "cell_type": "markdown",
   "id": "cc6f26ab-71cf-4ea9-b94f-8542c42ab9ee",
   "metadata": {
    "jp-MarkdownHeadingCollapsed": true
   },
   "source": [
    "# Classification"
   ]
  },
  {
   "cell_type": "markdown",
   "id": "a6d427d0-632a-4920-9a31-6b24457e4f53",
   "metadata": {
    "jp-MarkdownHeadingCollapsed": true
   },
   "source": [
    "## Data"
   ]
  },
  {
   "cell_type": "code",
   "execution_count": 19,
   "id": "68f32932-3d16-4737-bbdb-acef060a3b36",
   "metadata": {},
   "outputs": [
    {
     "data": {
      "text/html": [
       "<div>\n",
       "<style scoped>\n",
       "    .dataframe tbody tr th:only-of-type {\n",
       "        vertical-align: middle;\n",
       "    }\n",
       "\n",
       "    .dataframe tbody tr th {\n",
       "        vertical-align: top;\n",
       "    }\n",
       "\n",
       "    .dataframe thead th {\n",
       "        text-align: right;\n",
       "    }\n",
       "</style>\n",
       "<table border=\"1\" class=\"dataframe\">\n",
       "  <thead>\n",
       "    <tr style=\"text-align: right;\">\n",
       "      <th></th>\n",
       "      <th>track</th>\n",
       "      <th>artist</th>\n",
       "      <th>danceability</th>\n",
       "      <th>energy</th>\n",
       "      <th>key</th>\n",
       "      <th>loudness</th>\n",
       "      <th>mode</th>\n",
       "      <th>speechiness</th>\n",
       "      <th>acousticness</th>\n",
       "      <th>instrumentalness</th>\n",
       "      <th>liveness</th>\n",
       "      <th>valence</th>\n",
       "      <th>tempo</th>\n",
       "      <th>duration_ms</th>\n",
       "      <th>time_signature</th>\n",
       "      <th>chorus_hit</th>\n",
       "      <th>sections</th>\n",
       "      <th>popularity</th>\n",
       "      <th>decade</th>\n",
       "    </tr>\n",
       "  </thead>\n",
       "  <tbody>\n",
       "    <tr>\n",
       "      <th>0</th>\n",
       "      <td>Jealous Kind Of Fella</td>\n",
       "      <td>Garland Green</td>\n",
       "      <td>0.417</td>\n",
       "      <td>0.620</td>\n",
       "      <td>3</td>\n",
       "      <td>-7.727</td>\n",
       "      <td>1</td>\n",
       "      <td>0.0403</td>\n",
       "      <td>0.490</td>\n",
       "      <td>0.000000</td>\n",
       "      <td>0.0779</td>\n",
       "      <td>0.845</td>\n",
       "      <td>185.655</td>\n",
       "      <td>173533</td>\n",
       "      <td>3</td>\n",
       "      <td>32.94975</td>\n",
       "      <td>9</td>\n",
       "      <td>1</td>\n",
       "      <td>60s</td>\n",
       "    </tr>\n",
       "    <tr>\n",
       "      <th>1</th>\n",
       "      <td>Initials B.B.</td>\n",
       "      <td>Serge Gainsbourg</td>\n",
       "      <td>0.498</td>\n",
       "      <td>0.505</td>\n",
       "      <td>3</td>\n",
       "      <td>-12.475</td>\n",
       "      <td>1</td>\n",
       "      <td>0.0337</td>\n",
       "      <td>0.018</td>\n",
       "      <td>0.107000</td>\n",
       "      <td>0.1760</td>\n",
       "      <td>0.797</td>\n",
       "      <td>101.801</td>\n",
       "      <td>213613</td>\n",
       "      <td>4</td>\n",
       "      <td>48.82510</td>\n",
       "      <td>10</td>\n",
       "      <td>0</td>\n",
       "      <td>60s</td>\n",
       "    </tr>\n",
       "    <tr>\n",
       "      <th>2</th>\n",
       "      <td>Melody Twist</td>\n",
       "      <td>Lord Melody</td>\n",
       "      <td>0.657</td>\n",
       "      <td>0.649</td>\n",
       "      <td>5</td>\n",
       "      <td>-13.392</td>\n",
       "      <td>1</td>\n",
       "      <td>0.0380</td>\n",
       "      <td>0.846</td>\n",
       "      <td>0.000004</td>\n",
       "      <td>0.1190</td>\n",
       "      <td>0.908</td>\n",
       "      <td>115.940</td>\n",
       "      <td>223960</td>\n",
       "      <td>4</td>\n",
       "      <td>37.22663</td>\n",
       "      <td>12</td>\n",
       "      <td>0</td>\n",
       "      <td>60s</td>\n",
       "    </tr>\n",
       "    <tr>\n",
       "      <th>3</th>\n",
       "      <td>Mi Bomba Sonó</td>\n",
       "      <td>Celia Cruz</td>\n",
       "      <td>0.590</td>\n",
       "      <td>0.545</td>\n",
       "      <td>7</td>\n",
       "      <td>-12.058</td>\n",
       "      <td>0</td>\n",
       "      <td>0.1040</td>\n",
       "      <td>0.706</td>\n",
       "      <td>0.024600</td>\n",
       "      <td>0.0610</td>\n",
       "      <td>0.967</td>\n",
       "      <td>105.592</td>\n",
       "      <td>157907</td>\n",
       "      <td>4</td>\n",
       "      <td>24.75484</td>\n",
       "      <td>8</td>\n",
       "      <td>0</td>\n",
       "      <td>60s</td>\n",
       "    </tr>\n",
       "    <tr>\n",
       "      <th>4</th>\n",
       "      <td>Uravu Solla</td>\n",
       "      <td>P. Susheela</td>\n",
       "      <td>0.515</td>\n",
       "      <td>0.765</td>\n",
       "      <td>11</td>\n",
       "      <td>-3.515</td>\n",
       "      <td>0</td>\n",
       "      <td>0.1240</td>\n",
       "      <td>0.857</td>\n",
       "      <td>0.000872</td>\n",
       "      <td>0.2130</td>\n",
       "      <td>0.906</td>\n",
       "      <td>114.617</td>\n",
       "      <td>245600</td>\n",
       "      <td>4</td>\n",
       "      <td>21.79874</td>\n",
       "      <td>14</td>\n",
       "      <td>0</td>\n",
       "      <td>60s</td>\n",
       "    </tr>\n",
       "  </tbody>\n",
       "</table>\n",
       "</div>"
      ],
      "text/plain": [
       "                   track            artist  danceability  energy  key  \\\n",
       "0  Jealous Kind Of Fella     Garland Green         0.417   0.620    3   \n",
       "1          Initials B.B.  Serge Gainsbourg         0.498   0.505    3   \n",
       "2           Melody Twist       Lord Melody         0.657   0.649    5   \n",
       "3          Mi Bomba Sonó        Celia Cruz         0.590   0.545    7   \n",
       "4            Uravu Solla       P. Susheela         0.515   0.765   11   \n",
       "\n",
       "   loudness  mode  speechiness  acousticness  instrumentalness  liveness  \\\n",
       "0    -7.727     1       0.0403         0.490          0.000000    0.0779   \n",
       "1   -12.475     1       0.0337         0.018          0.107000    0.1760   \n",
       "2   -13.392     1       0.0380         0.846          0.000004    0.1190   \n",
       "3   -12.058     0       0.1040         0.706          0.024600    0.0610   \n",
       "4    -3.515     0       0.1240         0.857          0.000872    0.2130   \n",
       "\n",
       "   valence    tempo  duration_ms  time_signature  chorus_hit  sections  \\\n",
       "0    0.845  185.655       173533               3    32.94975         9   \n",
       "1    0.797  101.801       213613               4    48.82510        10   \n",
       "2    0.908  115.940       223960               4    37.22663        12   \n",
       "3    0.967  105.592       157907               4    24.75484         8   \n",
       "4    0.906  114.617       245600               4    21.79874        14   \n",
       "\n",
       "   popularity decade  \n",
       "0           1    60s  \n",
       "1           0    60s  \n",
       "2           0    60s  \n",
       "3           0    60s  \n",
       "4           0    60s  "
      ]
     },
     "execution_count": 19,
     "metadata": {},
     "output_type": "execute_result"
    }
   ],
   "source": [
    "data_classification = pd.read_csv(\"./data/data_classification.csv\", encoding= \"utf-8\")\n",
    "data_classification = data_classification.drop(\"uri\", axis=1)\n",
    "data_classification.head()"
   ]
  },
  {
   "cell_type": "code",
   "execution_count": 20,
   "id": "1b802f49-8fe2-446c-8b93-5f2df2d41ac5",
   "metadata": {},
   "outputs": [],
   "source": [
    "data_classification = data_classification.drop(\"track\", axis=1)\n",
    "data_classification = data_classification.drop(\"artist\", axis=1)\n",
    "data_classification.decade = data_classification.decade.str.strip('s')"
   ]
  },
  {
   "cell_type": "markdown",
   "id": "ad5fb900-fc7c-4a20-b233-3bc3d085d117",
   "metadata": {
    "jp-MarkdownHeadingCollapsed": true
   },
   "source": [
    "### Missing values & duplicates"
   ]
  },
  {
   "cell_type": "markdown",
   "id": "10e5cee3-dc96-427c-aed9-7f7974dc2e13",
   "metadata": {},
   "source": [
    "No missing values were found on this dataset."
   ]
  },
  {
   "cell_type": "code",
   "execution_count": 21,
   "id": "661d91bc-e38c-439a-bd82-cc8e2324bc7b",
   "metadata": {
    "scrolled": true
   },
   "outputs": [
    {
     "name": "stdout",
     "output_type": "stream",
     "text": [
      "Percentage of missing values on each column :\n",
      "\n",
      "danceability        0.0\n",
      "valence             0.0\n",
      "popularity          0.0\n",
      "sections            0.0\n",
      "chorus_hit          0.0\n",
      "time_signature      0.0\n",
      "duration_ms         0.0\n",
      "tempo               0.0\n",
      "liveness            0.0\n",
      "energy              0.0\n",
      "instrumentalness    0.0\n",
      "acousticness        0.0\n",
      "speechiness         0.0\n",
      "mode                0.0\n",
      "loudness            0.0\n",
      "key                 0.0\n",
      "decade              0.0\n",
      "dtype: float64\n"
     ]
    }
   ],
   "source": [
    "data_classification.drop_duplicates()\n",
    "data_classification = data_classification.dropna()\n",
    "print(\"Percentage of missing values on each column :\\n\")\n",
    "print(((data_classification.isnull().sum()/data_classification.shape[0])*100).sort_values(ascending=False))"
   ]
  },
  {
   "cell_type": "markdown",
   "id": "c15c474c-e9ac-4b3f-a4c7-97d7c34c81b8",
   "metadata": {
    "jp-MarkdownHeadingCollapsed": true
   },
   "source": [
    "### Correlations between features"
   ]
  },
  {
   "cell_type": "markdown",
   "id": "25281641-472e-4808-af72-d3b1e3ac66b6",
   "metadata": {},
   "source": [
    "There seems to be correlations between :\n",
    "- popularity and energy, loudness, valence and danceability.\n",
    "- duration and number of sections\n",
    "- loudness and energy\n",
    "- valence and danceability"
   ]
  },
  {
   "cell_type": "code",
   "execution_count": 22,
   "id": "e1fa2f29-d94e-4323-a998-30dea3cec8e6",
   "metadata": {},
   "outputs": [
    {
     "name": "stdout",
     "output_type": "stream",
     "text": [
      "instrumentalness   -0.433379\n",
      "liveness           -0.084188\n",
      "speechiness        -0.081224\n",
      "sections           -0.060458\n",
      "chorus_hit         -0.032481\n",
      "acousticness       -0.002334\n",
      "decade              0.000129\n",
      "duration_ms         0.007786\n",
      "key                 0.009923\n",
      "tempo               0.038010\n",
      "mode                0.079633\n",
      "time_signature      0.105529\n",
      "energy              0.197870\n",
      "loudness            0.271012\n",
      "valence             0.272065\n",
      "danceability        0.346023\n",
      "popularity          1.000000\n",
      "Name: popularity, dtype: float64\n"
     ]
    }
   ],
   "source": [
    "data_encoded = data_classification.copy()\n",
    "le = LabelEncoder()\n",
    "for col in data_encoded:\n",
    "    le.fit(data_encoded[col])\n",
    "    data_encoded[col] = le.transform(data_encoded[col])\n",
    "print(data_encoded.corr()['popularity'].sort_values())\n",
    "del data_encoded"
   ]
  },
  {
   "cell_type": "code",
   "execution_count": 23,
   "id": "91bc7b43-6847-4c0a-bbb9-cb4ed938c63b",
   "metadata": {},
   "outputs": [
    {
     "data": {
      "image/png": "[encoded data removed]",
      "text/plain": [
       "<Figure size 640x480 with 2 Axes>"
      ]
     },
     "metadata": {},
     "output_type": "display_data"
    }
   ],
   "source": [
    "cor_heatmap = sns.heatmap(data_classification[[\n",
    " 'instrumentalness',\n",
    " 'liveness',\n",
    " 'speechiness',\n",
    " 'sections',\n",
    " 'chorus_hit',\n",
    " 'acousticness',\n",
    " 'decade',\n",
    " 'duration_ms',\n",
    " 'key',\n",
    " 'tempo',\n",
    " 'mode',\n",
    " 'time_signature',\n",
    " 'energy',\n",
    " 'loudness',\n",
    " 'valence',\n",
    " 'danceability',\n",
    " 'popularity']].corr(), cmap=\"coolwarm\")"
   ]
  },
  {
   "cell_type": "markdown",
   "id": "2287a2bb-1d4d-4b03-96ae-18061562859a",
   "metadata": {
    "jp-MarkdownHeadingCollapsed": true
   },
   "source": [
    "## Generating X and y for our models"
   ]
  },
  {
   "cell_type": "code",
   "execution_count": 24,
   "id": "17e78a91-3975-45ae-ba77-f3ad80ce7568",
   "metadata": {},
   "outputs": [],
   "source": [
    "X = data_classification[['instrumentalness',\n",
    "                         'liveness',\n",
    "                         'speechiness',\n",
    "                         'sections',\n",
    "                         'chorus_hit',\n",
    "                         'acousticness',\n",
    "                         'decade',\n",
    "                         'duration_ms',\n",
    "                         'key',\n",
    "                         'tempo',\n",
    "                         'mode',\n",
    "                         'time_signature',\n",
    "                         'energy',\n",
    "                         'loudness',\n",
    "                         'valence',\n",
    "                         'danceability']]\n",
    "y = data_classification[['popularity']]"
   ]
  },
  {
   "cell_type": "markdown",
   "id": "e54d5ab6-4d95-4738-a38a-6eea6f49e383",
   "metadata": {
    "jp-MarkdownHeadingCollapsed": true
   },
   "source": [
    "### Label Encoding"
   ]
  },
  {
   "cell_type": "code",
   "execution_count": 25,
   "id": "480d7121-9dc2-44a1-a435-4de44fdde691",
   "metadata": {},
   "outputs": [
    {
     "name": "stdout",
     "output_type": "stream",
     "text": [
      "key\n",
      "mode\n",
      "time_signature\n",
      "sections\n",
      "decade\n",
      "5 columns were label encoded in X.\n",
      "Column popularity was label encoded in y.\n"
     ]
    }
   ],
   "source": [
    "data_to_label = X[[\"key\", \"mode\", \"time_signature\", \"sections\", \"decade\"]].copy()\n",
    "\n",
    "le = LabelEncoder()\n",
    "le_count = 0\n",
    "\n",
    "for col in data_to_label:\n",
    "    le.fit(X[col])\n",
    "    X[col] = le.transform(X[col])\n",
    "    le_count += 1\n",
    "    print(col)\n",
    "X.reset_index()\n",
    "print('%d columns were label encoded in X.' % le_count)\n",
    "\n",
    "\n",
    "le.fit(y[\"popularity\"])\n",
    "y[\"popularity\"] = le.transform(y[\"popularity\"])\n",
    "print(\"Column popularity was label encoded in y.\")"
   ]
  },
  {
   "cell_type": "markdown",
   "id": "443964f9-ca68-490b-8474-5422b6dc5e92",
   "metadata": {
    "jp-MarkdownHeadingCollapsed": true
   },
   "source": [
    "### Standard Scaler "
   ]
  },
  {
   "cell_type": "code",
   "execution_count": 26,
   "id": "f5c2e9cc-f680-4806-9229-fa2e85510fd3",
   "metadata": {},
   "outputs": [
    {
     "name": "stdout",
     "output_type": "stream",
     "text": [
      "instrumentalness\n",
      "liveness\n",
      "speechiness\n",
      "chorus_hit\n",
      "acousticness\n",
      "duration_ms\n",
      "tempo\n",
      "energy\n",
      "loudness\n",
      "valence\n",
      "danceability\n",
      "11 columns were scaled.\n"
     ]
    }
   ],
   "source": [
    "sc = StandardScaler()\n",
    "scale_count = 0\n",
    "\n",
    "\n",
    "data_to_scale = X[['instrumentalness',\n",
    "                   'liveness',\n",
    "                   'speechiness',\n",
    "                   'chorus_hit',\n",
    "                   'acousticness',\n",
    "                   'duration_ms',\n",
    "                   'tempo',\n",
    "                   'energy',\n",
    "                   'loudness',\n",
    "                   'valence',\n",
    "                   'danceability'\n",
    "                  ]].copy()\n",
    "\n",
    "for col in data_to_scale:\n",
    "    X[col] = sc.fit_transform(X[[col]])\n",
    "    scale_count += 1\n",
    "    print(col)\n",
    "X.reset_index()\n",
    "print('%d columns were scaled.' % scale_count)"
   ]
  },
  {
   "cell_type": "markdown",
   "id": "9f47810d-afa1-4b70-ad96-68e16230e473",
   "metadata": {},
   "source": [
    "## Train Test Split"
   ]
  },
  {
   "cell_type": "code",
   "execution_count": 27,
   "id": "2987810c-6d0e-4b31-8048-9a89bf955f24",
   "metadata": {},
   "outputs": [],
   "source": [
    "X_train, X_test, y_train, y_test = train_test_split(X, y, test_size=0.3, random_state=42)"
   ]
  },
  {
   "cell_type": "markdown",
   "id": "f97ceb27-188a-47f1-92c1-2767659cfdcb",
   "metadata": {
    "jp-MarkdownHeadingCollapsed": true
   },
   "source": [
    "# Models"
   ]
  },
  {
   "cell_type": "code",
   "execution_count": 28,
   "id": "6390806a-ad06-4cc8-b27c-ac9574b39c07",
   "metadata": {},
   "outputs": [],
   "source": [
    "def print_conf_matrix(y_test_, y_pred_):\n",
    "    conf_matrix = metrics.confusion_matrix(y_test_, y_pred_)\n",
    "\n",
    "    fig, ax = plt.subplots(figsize=(5, 5))\n",
    "    ax.matshow(conf_matrix, cmap=plt.cm.Oranges, alpha=0.3)\n",
    "    for i in range(conf_matrix.shape[0]):\n",
    "        for j in range(conf_matrix.shape[1]):\n",
    "            ax.text(x=j, y=i,s=conf_matrix[i, j], va='center', ha='center', size='xx-large')\n",
    "    plt.xlabel('Predictions', fontsize=18)\n",
    "    plt.ylabel('Actuals', fontsize=18)\n",
    "    plt.title('Confusion Matrix', fontsize=18)\n",
    "    plt.show()\n",
    "\n",
    "    print('The confusion matrix shows us the number of :\\n')\n",
    "    print('* True positives :', conf_matrix[0][0] ,'\\n')\n",
    "    print('* False positives :', conf_matrix[0][1],'\\n')\n",
    "    print('* False negatives :', conf_matrix[1][0] ,'\\n')\n",
    "    print('* True negatives :', conf_matrix[1][1] ,'\\n')"
   ]
  },
  {
   "cell_type": "code",
   "execution_count": 29,
   "id": "dd924603-b8a7-44ed-b7b0-8dae9c55ed63",
   "metadata": {},
   "outputs": [],
   "source": [
    "classifiers = [\n",
    "    LogisticRegression(),\n",
    "    RandomForestClassifier(),\n",
    "    DecisionTreeClassifier(criterion='gini', min_samples_split=2)\n",
    "]"
   ]
  },
  {
   "cell_type": "code",
   "execution_count": 30,
   "id": "f339c29b-bd46-4729-8d4c-fc16e5f9ed92",
   "metadata": {},
   "outputs": [
    {
     "name": "stdout",
     "output_type": "stream",
     "text": [
      "LogisticRegression() \n",
      "\n",
      "              precision    recall  f1-score   support\n",
      "\n",
      "           0       0.77      0.64      0.70      6163\n",
      "           1       0.69      0.80      0.74      6167\n",
      "\n",
      "    accuracy                           0.72     12330\n",
      "   macro avg       0.73      0.72      0.72     12330\n",
      "weighted avg       0.73      0.72      0.72     12330\n",
      "\n"
     ]
    },
    {
     "data": {
      "image/png": "[encoded data removed]",
      "text/plain": [
       "<Figure size 500x500 with 1 Axes>"
      ]
     },
     "metadata": {},
     "output_type": "display_data"
    },
    {
     "name": "stdout",
     "output_type": "stream",
     "text": [
      "The confusion matrix shows us the number of :\n",
      "\n",
      "* True positives : 3954 \n",
      "\n",
      "* False positives : 2209 \n",
      "\n",
      "* False negatives : 1214 \n",
      "\n",
      "* True negatives : 4953 \n",
      "\n",
      "______________________\n",
      "\n",
      "RandomForestClassifier() \n",
      "\n",
      "              precision    recall  f1-score   support\n",
      "\n",
      "           0       0.83      0.75      0.79      6163\n",
      "           1       0.77      0.85      0.81      6167\n",
      "\n",
      "    accuracy                           0.80     12330\n",
      "   macro avg       0.80      0.80      0.80     12330\n",
      "weighted avg       0.80      0.80      0.80     12330\n",
      "\n"
     ]
    },
    {
     "data": {
      "image/png": "[encoded data removed]",
      "text/plain": [
       "<Figure size 500x500 with 1 Axes>"
      ]
     },
     "metadata": {},
     "output_type": "display_data"
    },
    {
     "name": "stdout",
     "output_type": "stream",
     "text": [
      "The confusion matrix shows us the number of :\n",
      "\n",
      "* True positives : 4639 \n",
      "\n",
      "* False positives : 1524 \n",
      "\n",
      "* False negatives : 955 \n",
      "\n",
      "* True negatives : 5212 \n",
      "\n",
      "______________________\n",
      "\n",
      "DecisionTreeClassifier() \n",
      "\n",
      "              precision    recall  f1-score   support\n",
      "\n",
      "           0       0.72      0.72      0.72      6163\n",
      "           1       0.72      0.72      0.72      6167\n",
      "\n",
      "    accuracy                           0.72     12330\n",
      "   macro avg       0.72      0.72      0.72     12330\n",
      "weighted avg       0.72      0.72      0.72     12330\n",
      "\n"
     ]
    },
    {
     "data": {
      "image/png": "[encoded data removed]",
      "text/plain": [
       "<Figure size 500x500 with 1 Axes>"
      ]
     },
     "metadata": {},
     "output_type": "display_data"
    },
    {
     "name": "stdout",
     "output_type": "stream",
     "text": [
      "The confusion matrix shows us the number of :\n",
      "\n",
      "* True positives : 4409 \n",
      "\n",
      "* False positives : 1754 \n",
      "\n",
      "* False negatives : 1754 \n",
      "\n",
      "* True negatives : 4413 \n",
      "\n",
      "______________________\n",
      "\n"
     ]
    }
   ],
   "source": [
    "for model in classifiers:\n",
    "    start = time()\n",
    "    model.fit(X_train, y_train)\n",
    "    train_time = time() - start\n",
    "    start = time()\n",
    "    y_pred = model.predict(X_test)\n",
    "    predict_time = time()-start    \n",
    "    print(model, \"\\n\")\n",
    "    print(classification_report(y_test, y_pred))\n",
    "    print_conf_matrix(y_test, y_pred)\n",
    "    print(\"______________________\\n\")"
   ]
  },
  {
   "cell_type": "markdown",
   "id": "13fa8f79-ea1e-417a-a434-9f88e0e1081e",
   "metadata": {},
   "source": [
    "# Conclusion of Classification"
   ]
  },
  {
   "cell_type": "markdown",
   "id": "67e8c5cb-63cd-4304-85cb-666675eb3c2b",
   "metadata": {},
   "source": [
    "Our Random Forest Classifier was our best classification model."
   ]
  }
 ],
 "metadata": {
  "kernelspec": {
   "display_name": "Python 3 (ipykernel)",
   "language": "python",
   "name": "python3"
  },
  "language_info": {
   "codemirror_mode": {
    "name": "ipython",
    "version": 3
   },
   "file_extension": ".py",
   "mimetype": "text/x-python",
   "name": "python",
   "nbconvert_exporter": "python",
   "pygments_lexer": "ipython3",
   "version": "3.9.6"
  }
 },
 "nbformat": 4,
 "nbformat_minor": 5
}
